{
 "cells": [
  {
   "cell_type": "code",
   "execution_count": null,
   "metadata": {},
   "outputs": [],
   "source": [
    "import torch\n",
    "import pandas as pd\n",
    "import numpy as np\n",
    "from sklearn.model_selection import GridSearchCV\n",
    "from sklearn import preprocessing\n",
    "\n",
    "#Importing the datasets-------------------------------------------------------\n",
    "print (\"Importing datasets\")\n",
    "df = pd.read_csv('DATA.csv')"
   ]
  },
  {
   "cell_type": "code",
   "execution_count": null,
   "metadata": {},
   "outputs": [],
   "source": [
    "#Preparing ML Datasets--------------------------------------------------------\n",
    "#if preprocessing from original data is necessary, do it here.\n",
    "print (\"Preparing ML datasets\")\n",
    "full_dataset = df[[\"A\",\n",
    "                   \"B\",\n",
    "                   \"C\",\n",
    "                   \"D\",\n",
    "                   \"E\",\n",
    "                   \"F\"\n",
    "                   ]].copy()"
   ]
  },
  {
   "cell_type": "code",
   "execution_count": null,
   "metadata": {},
   "outputs": [],
   "source": [
    "#Define X and Y for each regression--------------------------------------------\n",
    "X = full_dataset.iloc[:, :-1].values #X is all the value except the last column\n",
    "y = full_dataset.iloc[:,5].values #Y is (in this case) the 4th column. The value needs to be changed according to your dataframe.\n",
    "\n",
    "#Splitting all datasets into train and test------------------------------------\n",
    "print (\"Train/test split\")\n",
    "from sklearn.model_selection import train_test_split\n",
    "xtrain, xtest, ytrain, ytest= train_test_split(X,y,test_size = 0.20,random_state = 0)\n",
    "\n",
    "ytrain = np.resize(ytrain,(len(ytrain),1))\n",
    "ytrain = torch.from_numpy(ytrain.astype(float))\n",
    "\n",
    "ytest = np.resize(ytest,(len(ytest),1))\n",
    "ytest = torch.from_numpy(ytest.astype(float))\n",
    "\n",
    "xtrain = torch.from_numpy(xtrain)\n",
    "xtest = torch.from_numpy(xtest)"
   ]
  },
  {
   "cell_type": "code",
   "execution_count": null,
   "metadata": {},
   "outputs": [],
   "source": [
    "# N is batch size; D_in is input dimension;# H is hidden dimension; D_out is output dimension.\n",
    "N, D_in, H, D_out = 100, 5, 30, 1\n",
    "\n",
    "# Construct our model by instantiating the class defined above.\n",
    "# model = TwoLayerNet(D_in, H, D_out)\n",
    "model = torch.nn.Sequential(\n",
    "          torch.nn.Linear(D_in, H),\n",
    "          torch.nn.ReLU(),\n",
    "          torch.nn.Linear(H, D_out),\n",
    "        )\n",
    "\n",
    "# Construct our loss function and an Optimizer. The call to\n",
    "model.parameters()\n",
    "# in the SGD constructor will contain the learnable parameters of the two\n",
    "# nn.Linear modules which are members of the model.\n",
    "# loss_fn = torch.nn.MSELoss(size_average=False)\n",
    "loss_fn = torch.nn.MSELoss(reduction='sum')\n",
    "# optimizer = torch.optim.SGD(model.parameters(), lr=1e-4)\n",
    "learning_rate = 1e-4\n",
    "optimizer = torch.optim.Adam(model.parameters(), lr=learning_rate)\n",
    "for t in range(40000):\n",
    "    # Forward pass: Compute predicted y by passing x to the model\n",
    "    ypredtrain = model(xtrain.float())\n",
    "    ypred = model(xtest.float())\n",
    "    # Compute and print loss\n",
    "    loss = loss_fn(ypredtrain, ytrain.float())\n",
    "    print(t, loss.item())\n",
    "\n",
    "    # Zero gradients, perform a backward pass, and update the weights.\n",
    "    optimizer.zero_grad()\n",
    "    loss.backward()\n",
    "    optimizer.step()"
   ]
  },
  {
   "cell_type": "code",
   "execution_count": null,
   "metadata": {},
   "outputs": [],
   "source": [
    "def r_score(y_true, y_pred): \n",
    "    y_true, y_pred = np.array(y_true), np.array(y_pred)\n",
    "    residuals = y_true- y_pred\n",
    "    ss_res = np.sum(residuals**2)\n",
    "    ss_tot = np.sum((y_true-np.mean(y_true))**2)\n",
    "    r_squared = 1 - (ss_res / ss_tot)    \n",
    "    #r_scores = (r_squared ** 0.5)\n",
    "    return r_squared\n",
    "\n",
    "ypredtrain1 = ypredtrain.detach().numpy() #predicted data with training dataset\n",
    "ytrain1 = ytrain.numpy() #training data itself\n",
    "ypred1 = ypred.detach().numpy() #prediction from test data\n",
    "ytest1 = ytest.numpy() #test data itself"
   ]
  },
  {
   "cell_type": "code",
   "execution_count": null,
   "metadata": {},
   "outputs": [],
   "source": [
    "from sklearn.metrics import r2_score\n",
    "from sklearn.metrics import mean_absolute_error\n",
    "from sklearn.metrics import mean_squared_error"
   ]
  },
  {
   "cell_type": "code",
   "execution_count": null,
   "metadata": {},
   "outputs": [],
   "source": [
    "def mean_absolute_percentage_error(y_true, y_pred): \n",
    "    y_true, y_pred = np.array(y_true), np.array(y_pred)\n",
    "    return (np.abs((y_true - y_pred) / y_true)) * 100"
   ]
  },
  {
   "cell_type": "code",
   "execution_count": null,
   "metadata": {},
   "outputs": [],
   "source": [
    "r_torch1 =  r_score(ytrain1, ypredtrain1)\n",
    "MAE_torch1 = mean_absolute_error(ytrain1, ypredtrain1)\n",
    "MSE_torch1 = mean_squared_error(ytrain1, ypredtrain1)\n",
    "MAPE_torch1 = mean_absolute_percentage_error(ytrain1, ypredtrain1)\n"
   ]
  },
  {
   "cell_type": "code",
   "execution_count": null,
   "metadata": {},
   "outputs": [],
   "source": [
    "r_torch2 =  r_score(ytest1, ypred1)\n",
    "MAE_torch2 = mean_absolute_error(ytest1, ypred1)\n",
    "MSE_torch2 = mean_squared_error(ytest1, ypred1)\n",
    "MAPE_torch2 = mean_absolute_percentage_error(ytest1, ypred1)\n"
   ]
  },
  {
   "cell_type": "code",
   "execution_count": null,
   "metadata": {},
   "outputs": [],
   "source": [
    "errors = [{'Model Name': 'ANN PyTorch - Training', 'R2': r_torch1, 'MAE': MAE_torch1, 'MSE': MSE_torch1, 'MAPE (%)': np.mean(MAPE_torch1), 'Median Error (%)': statistics.median(MAPE_torch1)},\n",
    "          {'Model Name': 'ANN PyTorch - Testing', 'R2': r_torch2, 'MAE': MAE_torch2, 'MSE': MSE_torch2, 'MAPE (%)': np.mean(MAPE_torch2), 'Median Error (%)': statistics.median(MAPE_torch2)}]\n",
    "df_estimationerrors = pd.DataFrame(errors)\n",
    "df_estimationerrors= df_estimationerrors.sort_values(by=['Median Error (%)'])\n",
    "print(df_estimationerrors)\n",
    "df_estimationerrors.to_csv(\"errors-test5.csv\")"
   ]
  },
  {
   "cell_type": "code",
   "execution_count": null,
   "metadata": {},
   "outputs": [],
   "source": []
  }
 ],
 "metadata": {
  "kernelspec": {
   "display_name": "Python 3",
   "language": "python",
   "name": "python3"
  },
  "language_info": {
   "codemirror_mode": {
    "name": "ipython",
    "version": 3
   },
   "file_extension": ".py",
   "mimetype": "text/x-python",
   "name": "python",
   "nbconvert_exporter": "python",
   "pygments_lexer": "ipython3",
   "version": "3.7.6"
  }
 },
 "nbformat": 4,
 "nbformat_minor": 2
}
