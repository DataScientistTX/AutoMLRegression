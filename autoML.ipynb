{
 "cells": [
  {
   "cell_type": "markdown",
   "metadata": {},
   "source": [
    "In this article, I will explain how to develop an Automated Supervised Machine Learning Regression program, which automatically tunes the hyperparameters and prints out the final results as tables, graphs and boxplots."
   ]
  },
  {
   "cell_type": "markdown",
   "metadata": {},
   "source": [
    "I always like to keep my libraries together, hence I import all of them at once in the beginning of the code."
   ]
  },
  {
   "cell_type": "code",
   "execution_count": 3,
   "metadata": {},
   "outputs": [],
   "source": [
    "import pandas as pd\n",
    "import numpy as np\n",
    "import statistics\n",
    "from xgboost import XGBRegressor\n",
    "from sklearn.model_selection import GridSearchCV\n",
    "from sklearn import preprocessing\n",
    "from sklearn.linear_model import LinearRegression\n",
    "from sklearn.linear_model import Ridge\n",
    "from sklearn.ensemble import RandomForestRegressor\n",
    "from sklearn.linear_model import Lasso\n",
    "from sklearn.svm import SVR\n",
    "from sklearn.neural_network import MLPRegressor\n",
    "from sklearn.preprocessing import PolynomialFeatures\n",
    "from sklearn import linear_model\n",
    "from sklearn.model_selection import train_test_split\n",
    "from sklearn.metrics import mean_absolute_error\n",
    "from sklearn.metrics import mean_squared_error"
   ]
  },
  {
   "cell_type": "markdown",
   "metadata": {},
   "source": [
    "Lets import our dataset and define the features and the predictors."
   ]
  },
  {
   "cell_type": "code",
   "execution_count": 4,
   "metadata": {},
   "outputs": [
    {
     "name": "stdout",
     "output_type": "stream",
     "text": [
      "Importing datasets\n"
     ]
    }
   ],
   "source": [
    "#Importing the datasets-------------------------------------------------------\n",
    "print (\"Importing datasets\")\n",
    "df = pd.read_csv('DATA.csv')  "
   ]
  },
  {
   "cell_type": "markdown",
   "metadata": {},
   "source": [
    "Let's take a look at how the dataset looks. I like using df.describe() function to have some statistics about each column."
   ]
  },
  {
   "cell_type": "code",
   "execution_count": 5,
   "metadata": {},
   "outputs": [
    {
     "data": {
      "text/html": [
       "<div>\n",
       "<style scoped>\n",
       "    .dataframe tbody tr th:only-of-type {\n",
       "        vertical-align: middle;\n",
       "    }\n",
       "\n",
       "    .dataframe tbody tr th {\n",
       "        vertical-align: top;\n",
       "    }\n",
       "\n",
       "    .dataframe thead th {\n",
       "        text-align: right;\n",
       "    }\n",
       "</style>\n",
       "<table border=\"1\" class=\"dataframe\">\n",
       "  <thead>\n",
       "    <tr style=\"text-align: right;\">\n",
       "      <th></th>\n",
       "      <th>A</th>\n",
       "      <th>B</th>\n",
       "      <th>C</th>\n",
       "      <th>D</th>\n",
       "      <th>E</th>\n",
       "      <th>F</th>\n",
       "    </tr>\n",
       "  </thead>\n",
       "  <tbody>\n",
       "    <tr>\n",
       "      <th>count</th>\n",
       "      <td>5102.000000</td>\n",
       "      <td>5102.000000</td>\n",
       "      <td>5102.000000</td>\n",
       "      <td>5102.000000</td>\n",
       "      <td>5102.000000</td>\n",
       "      <td>5102.000000</td>\n",
       "    </tr>\n",
       "    <tr>\n",
       "      <th>mean</th>\n",
       "      <td>10.009189</td>\n",
       "      <td>18.306174</td>\n",
       "      <td>715.321835</td>\n",
       "      <td>14.227754</td>\n",
       "      <td>9.535280</td>\n",
       "      <td>12.287221</td>\n",
       "    </tr>\n",
       "    <tr>\n",
       "      <th>std</th>\n",
       "      <td>1.508632</td>\n",
       "      <td>3.607368</td>\n",
       "      <td>161.961775</td>\n",
       "      <td>4.902647</td>\n",
       "      <td>2.577904</td>\n",
       "      <td>3.869418</td>\n",
       "    </tr>\n",
       "    <tr>\n",
       "      <th>min</th>\n",
       "      <td>7.000000</td>\n",
       "      <td>1.000000</td>\n",
       "      <td>261.000000</td>\n",
       "      <td>2.000000</td>\n",
       "      <td>1.000000</td>\n",
       "      <td>1.000000</td>\n",
       "    </tr>\n",
       "    <tr>\n",
       "      <th>25%</th>\n",
       "      <td>9.012500</td>\n",
       "      <td>16.000000</td>\n",
       "      <td>605.000000</td>\n",
       "      <td>11.000000</td>\n",
       "      <td>8.000000</td>\n",
       "      <td>9.600000</td>\n",
       "    </tr>\n",
       "    <tr>\n",
       "      <th>50%</th>\n",
       "      <td>9.700000</td>\n",
       "      <td>18.500000</td>\n",
       "      <td>698.000000</td>\n",
       "      <td>13.000000</td>\n",
       "      <td>9.000000</td>\n",
       "      <td>12.000000</td>\n",
       "    </tr>\n",
       "    <tr>\n",
       "      <th>75%</th>\n",
       "      <td>10.550000</td>\n",
       "      <td>20.500000</td>\n",
       "      <td>814.750000</td>\n",
       "      <td>17.000000</td>\n",
       "      <td>11.000000</td>\n",
       "      <td>14.675000</td>\n",
       "    </tr>\n",
       "    <tr>\n",
       "      <th>max</th>\n",
       "      <td>14.000000</td>\n",
       "      <td>40.000000</td>\n",
       "      <td>1245.000000</td>\n",
       "      <td>38.000000</td>\n",
       "      <td>19.000000</td>\n",
       "      <td>29.000000</td>\n",
       "    </tr>\n",
       "  </tbody>\n",
       "</table>\n",
       "</div>"
      ],
      "text/plain": [
       "                 A            B            C            D            E  \\\n",
       "count  5102.000000  5102.000000  5102.000000  5102.000000  5102.000000   \n",
       "mean     10.009189    18.306174   715.321835    14.227754     9.535280   \n",
       "std       1.508632     3.607368   161.961775     4.902647     2.577904   \n",
       "min       7.000000     1.000000   261.000000     2.000000     1.000000   \n",
       "25%       9.012500    16.000000   605.000000    11.000000     8.000000   \n",
       "50%       9.700000    18.500000   698.000000    13.000000     9.000000   \n",
       "75%      10.550000    20.500000   814.750000    17.000000    11.000000   \n",
       "max      14.000000    40.000000  1245.000000    38.000000    19.000000   \n",
       "\n",
       "                 F  \n",
       "count  5102.000000  \n",
       "mean     12.287221  \n",
       "std       3.869418  \n",
       "min       1.000000  \n",
       "25%       9.600000  \n",
       "50%      12.000000  \n",
       "75%      14.675000  \n",
       "max      29.000000  "
      ]
     },
     "execution_count": 5,
     "metadata": {},
     "output_type": "execute_result"
    }
   ],
   "source": [
    "df.describe()"
   ]
  },
  {
   "cell_type": "markdown",
   "metadata": {},
   "source": [
    "Let's define the features as X and the column we want to predict (column D) as y. "
   ]
  },
  {
   "cell_type": "code",
   "execution_count": 6,
   "metadata": {},
   "outputs": [],
   "source": [
    "X = df.iloc[:,:-1].values \n",
    "y = df.iloc[:,5].values"
   ]
  },
  {
   "cell_type": "markdown",
   "metadata": {},
   "source": [
    "This defines X as all the values except the last column (columns A,B,C,D,E), and y as the last column (column numbers start from zero, hence: 0 - A, 1 - B, 2 - C, 3 - D,4 - E, 5 -F)."
   ]
  },
  {
   "cell_type": "markdown",
   "metadata": {},
   "source": [
    "For some algorithms we might want to use X as preprocessed (normalized) values (X2). This mostly provides higher accuracies for algorithms such as Multi Layer Perceptron (MLP) or Support Vector Machines (SVM). Hence, for the rest of the program, X2 will be used for non-linear ML algorithms such as random forest, XGBoost, MLP, SVM. However, X will be used for polynomial regressions and linear regression to evaluate the regression constants easier."
   ]
  },
  {
   "cell_type": "code",
   "execution_count": 7,
   "metadata": {},
   "outputs": [],
   "source": [
    "X2 = preprocessing.scale(X)"
   ]
  },
  {
   "cell_type": "markdown",
   "metadata": {},
   "source": [
    "We have to split our dataset as train and test data. For this we can use train_test_split by sklearn.model_selection. We will do this for both X and X2. Test size of 0.20 means that 20% of the data will be used as test data and 80% of the data will be used for training."
   ]
  },
  {
   "cell_type": "code",
   "execution_count": 8,
   "metadata": {},
   "outputs": [],
   "source": [
    "X_train, X_test, y_train, y_test= train_test_split(X,y,test_size = 0.20)\n",
    "X_train2, X_test2, y_train2, y_test2= train_test_split(X2,y,test_size = 0.20)\n"
   ]
  },
  {
   "cell_type": "markdown",
   "metadata": {},
   "source": [
    "We might not always want to tune the parameters of models, or only tune for some models. For this I have defined basic inputs. When they are set to \"yes\", the program will perform the tuning."
   ]
  },
  {
   "cell_type": "code",
   "execution_count": 9,
   "metadata": {},
   "outputs": [],
   "source": [
    "#Inputs------------------------------------------------------------------------\n",
    "randomforestparametertuning = \"no\" #yes or no\n",
    "XGboostparametertuning      = \"no\" #yes or no\n",
    "SVMparametertuning          = \"no\" #yes or no\n",
    "MLPparametertuning          = \"no\" #yes or no"
   ]
  },
  {
   "cell_type": "markdown",
   "metadata": {},
   "source": [
    "The first one is training, testing and tuning the random forest regression. The values of param_grid might be updated regarding the problem (i.e., some problems might require higher values of n_estimators, while some might require lower ranges)."
   ]
  },
  {
   "cell_type": "code",
   "execution_count": 10,
   "metadata": {},
   "outputs": [],
   "source": [
    "if randomforestparametertuning == \"yes\":\n",
    "    print (\"Performing gridsearch in random forest\")\n",
    "\n",
    "    # Create the parameter grid based on the results of random search \n",
    "    param_grid = {\n",
    "        'bootstrap': [True,False],\n",
    "        'max_depth': [40, 50, 60, 70],\n",
    "        'max_features': ['auto', 'sqrt'],\n",
    "        'min_samples_leaf': [1,2,3,],\n",
    "        'min_samples_split': [3, 4, 5,6,7],\n",
    "        'n_estimators': [50,100,150,200,250,300,350,400,500]\n",
    "        }\n",
    "    \n",
    "    # Create a based model\n",
    "    rf = RandomForestRegressor()\n",
    "    # Instantiate the grid search model\n",
    "    grid_search_RF = GridSearchCV(estimator = rf, param_grid = param_grid, \n",
    "                              cv = 3, n_jobs = -1, verbose = 2)\n",
    "    \n",
    "    # Fit the grid search to the data\n",
    "    grid_search_RF.fit(X_train2, y_train2)\n",
    "    print(\"Grid Search Best Parameters for Random Forest Regression\")\n",
    "    print (grid_search_RF.best_params_)"
   ]
  },
  {
   "cell_type": "markdown",
   "metadata": {},
   "source": [
    "The second one is training, testing and tuning the XGBoost regression. The values of grid might be updated regarding the problem (i.e., some problems might require higher values of n_estimators, while some might require lower ranges)."
   ]
  },
  {
   "cell_type": "code",
   "execution_count": 12,
   "metadata": {
    "scrolled": true
   },
   "outputs": [],
   "source": [
    "#XGBoost Parameter Tuning------------------------------------------------------\n",
    "if XGboostparametertuning == \"yes\":\n",
    "    print(\"XGBoost parameter tuning\")\n",
    "    # Create the parameter grid based on the results of random search \n",
    "    grid = {'colsample_bytree': [0.9,0.8,0.7],\n",
    "                    'gamma': [2,3,4,5],\n",
    "                    'learning_rate': [0.1,0.2,0.3],\n",
    "                    'max_depth': [8,9,10,11,12],\n",
    "                    'n_estimators': [150,200,250,300,350],\n",
    "                    'subsample': [0.8,0.9,1],\n",
    "                    'reg_alpha': [15,18,20],\n",
    "                    'min_child_weight':[3,4,5]}\n",
    "\n",
    "    # Create a based model\n",
    "    XGB = XGBRegressor()\n",
    "    # Instantiate the grid search model\n",
    "    grid_search_XGB = GridSearchCV(estimator = XGB, param_grid = grid, \n",
    "                              cv = 3, n_jobs = -1, verbose = 2)\n",
    "    \n",
    "    # Fit the grid search to the data\n",
    "    grid_search_XGB.fit(X_train2, y_train2)\n",
    "    print(\"Grid Search Best Parameters for XGBoost\")\n",
    "    print (grid_search_XGB.best_params_) "
   ]
  },
  {
   "cell_type": "markdown",
   "metadata": {},
   "source": [
    "The third one is training, testing and tuning the SVM regression. The values of C_range or gamma_range might be updated regarding the problem."
   ]
  },
  {
   "cell_type": "code",
   "execution_count": 13,
   "metadata": {},
   "outputs": [],
   "source": [
    "#SVM Parameter Tuning----------------------------------------------------------\n",
    "if SVMparametertuning == \"yes\":\n",
    "    print(\"SVM parameter tuning\")\n",
    "\n",
    "    C_range = 10. ** np.arange(-3, 3)\n",
    "    gamma_range = 10. ** np.arange(-5, 3)\n",
    "    param_grid = dict(gamma=gamma_range, C=C_range)\n",
    "    svr_rbf = SVR()\n",
    "    # Instantiate the grid search model\n",
    "    grid_search_svm = GridSearchCV(estimator = svr_rbf, param_grid = param_grid, \n",
    "                              cv = 3, n_jobs = -1, verbose = 2)\n",
    "    # Fit the grid search to the data\n",
    "    grid_search_svm.fit(X_train2, y_train2)\n",
    "    print(\"Grid Search Best Parameters for SVM\")\n",
    "    print (grid_search_svm.best_params_)"
   ]
  },
  {
   "cell_type": "markdown",
   "metadata": {},
   "source": [
    "The fourth one is training, testing and tuning the MLP algorithm. The values of param_grid might be updated regarding the problem."
   ]
  },
  {
   "cell_type": "code",
   "execution_count": 14,
   "metadata": {},
   "outputs": [],
   "source": [
    "if MLPparametertuning == \"yes\":\n",
    "    print(\"MLP parameter tuning\")\n",
    "\n",
    "    param_grid = {\n",
    "        'hidden_layer_sizes': [50,100,150,200,250,300,350],\n",
    "        'activation': ['identity','logistic','tanh','relu'],\n",
    "        'solver': ['lbfgs', 'sgd','adam'],\n",
    "        'learning_rate': ['constant','invscaling','adaptive']}\n",
    "    MLP = MLPRegressor()\n",
    "    # Instantiate the grid search model\n",
    "    grid_search_MLP = GridSearchCV(estimator = MLP, param_grid = param_grid, \n",
    "                              cv = 3, n_jobs = -1, verbose = 2)\n",
    "    \n",
    "    # Fit the grid search to the data\n",
    "    grid_search_MLP.fit(X_train2, y_train2)\n",
    "    print(\"Grid Search Best Parameters for MLP\")\n",
    "    print (grid_search_MLP.best_params_)\n"
   ]
  },
  {
   "cell_type": "markdown",
   "metadata": {},
   "source": [
    "The below commands provide a summary of the best parameters obtained from the GridSearch of all these four algortihms."
   ]
  },
  {
   "cell_type": "markdown",
   "metadata": {},
   "source": [
    "Next thing, we will be fitting 9 different algortihms to our data to see which one performs the best. These are namely: multi linear regression, ridge regression, lasso regression, polynomial regression (degree=2), polynomial regression (degree=3), random forest regression (with the best parameters obtained from GridSearch), XGBoost regression (with the best parameters obtained from GridSearch), SVM regression (with the best parameters obtained from GridSearch) and MLP (with the best parameters obtained from GridSearch)."
   ]
  },
  {
   "cell_type": "code",
   "execution_count": 23,
   "metadata": {},
   "outputs": [
    {
     "name": "stdout",
     "output_type": "stream",
     "text": [
      "Fit multilinear regression\n",
      "Fit ridge regression\n",
      "Fit random forest regression\n",
      "Fit XGBoost regression\n",
      "[18:07:04] WARNING: src/objective/regression_obj.cu:152: reg:linear is now deprecated in favor of reg:squarederror.\n",
      "Fit Lasso regression\n",
      "Fit SVR RBF regression\n",
      "Fit Multi-layer Perceptron regressor\n"
     ]
    },
    {
     "name": "stderr",
     "output_type": "stream",
     "text": [
      "C:\\Users\\Admin\\anaconda3\\lib\\site-packages\\sklearn\\neural_network\\_multilayer_perceptron.py:571: ConvergenceWarning: Stochastic Optimizer: Maximum iterations (200) reached and the optimization hasn't converged yet.\n",
      "  % self.max_iter, ConvergenceWarning)\n"
     ]
    },
    {
     "data": {
      "text/plain": [
       "MLPRegressor(activation='relu', alpha=0.0001, batch_size='auto', beta_1=0.9,\n",
       "             beta_2=0.999, early_stopping=False, epsilon=1e-08,\n",
       "             hidden_layer_sizes=(100,), learning_rate='constant',\n",
       "             learning_rate_init=0.001, max_fun=15000, max_iter=200,\n",
       "             momentum=0.9, n_iter_no_change=10, nesterovs_momentum=True,\n",
       "             power_t=0.5, random_state=None, shuffle=True, solver='adam',\n",
       "             tol=0.0001, validation_fraction=0.1, verbose=False,\n",
       "             warm_start=False)"
      ]
     },
     "execution_count": 23,
     "metadata": {},
     "output_type": "execute_result"
    }
   ],
   "source": [
    "#Fitting multi linear regression to data---------------------------------------\n",
    "print (\"Fit multilinear regression\")\n",
    "linreg = LinearRegression()\n",
    "linreg.fit(X_train,y_train)\n",
    "\n",
    "#Fitting ridge regression to data----------------------------------------------\n",
    "print (\"Fit ridge regression\")\n",
    "ridgeReg = Ridge(alpha=0.05, normalize=True)\n",
    "ridgeReg.fit(X_train,y_train)\n",
    "\n",
    "#Fitting random forest regression to data--------------------------------------\n",
    "print (\"Fit random forest regression\")\n",
    "try:\n",
    "    randreg = RandomForestRegressor(**grid_search_RF.best_params_)\n",
    "except:\n",
    "    randreg = RandomForestRegressor()\n",
    "randreg.fit(X_train2,y_train2)\n",
    "\n",
    "#Fitting XGboost regression to data--------------------------------------------\n",
    "print (\"Fit XGBoost regression\")\n",
    "try:\n",
    "    XGBreg = XGBRegressor(**grid_search_XGB.best_params_)\n",
    "except: \n",
    "    XGBreg = XGBRegressor()\n",
    "XGBreg.fit(X_train2, y_train2)\n",
    "\n",
    "#Fitting LASSO regression to data----------------------------------------------\n",
    "print (\"Fit Lasso regression\")\n",
    "lassoreg = Lasso(alpha=0.01, max_iter=10e5)\n",
    "lassoreg.fit(X_train, y_train)\n",
    "\n",
    "#Support Vector Machines-------------------------------------------------------\n",
    "print (\"Fit SVR RBF regression\")\n",
    "try:\n",
    "    svr_rbf = SVR(**grid_search_svm.best_params_)\n",
    "except:\n",
    "    svr_rbf = SVR()\n",
    "    svr_rbf.fit(X_train2, y_train2)\n",
    "\n",
    "#MLP Regressor-----------------------------------------------------------------\n",
    "print (\"Fit Multi-layer Perceptron regressor\")\n",
    "try:\n",
    "    MLP = MLPRegressor(**grid_search_MLP.best_params_)\n",
    "except:\n",
    "    MLP = MLPRegressor()    \n",
    "MLP.fit(X_train2, y_train2)"
   ]
  },
  {
   "cell_type": "markdown",
   "metadata": {},
   "source": [
    "For the error analysis, we are using four different statistics. The first one is r_score, which is the r2 (coefficient of determination) of the test data and the predicted data. The second is MAE = Mean Absolute Error, the third one is MSE = Mean Squared Error and the third one is MAPE = Mean Absolute Percentage Error. The MAE and MSE calculations come directly from sklearn.metrics / mean_absolute_error and mean_squared_error. For the r_score and MAPE, we are defining below functions."
   ]
  },
  {
   "cell_type": "code",
   "execution_count": 25,
   "metadata": {},
   "outputs": [],
   "source": [
    "#Define the missing sklearn.metrics parameter of mean absolute percentage error\n",
    "def mean_absolute_percentage_error(y_true, y_pred): \n",
    "    y_true, y_pred = np.array(y_true), np.array(y_pred)\n",
    "    return (np.abs((y_true - y_pred) / y_true)) * 100\n",
    "\n",
    "def r_score(y_true, y_pred): \n",
    "    y_true, y_pred = np.array(y_true), np.array(y_pred)\n",
    "    residuals = y_true- y_pred\n",
    "    ss_res = np.sum(residuals**2)\n",
    "    ss_tot = np.sum((y_true-np.mean(y_true))**2)\n",
    "    r_squared = 1 - (ss_res / ss_tot)    \n",
    "    return r_squared"
   ]
  },
  {
   "cell_type": "markdown",
   "metadata": {},
   "source": [
    "Now that the error statistics are defined, lets predict the predicted values by the algorithm and calculate the errors."
   ]
  },
  {
   "cell_type": "code",
   "execution_count": 26,
   "metadata": {},
   "outputs": [],
   "source": [
    "y_predicted_RF = randreg.predict(X_test2)\n",
    "y_predicted_LREG = linreg.predict(X_test)\n",
    "y_predicted_RIDGE = ridgeReg.predict(X_test)\n",
    "y_predicted_XGB = XGBreg.predict(X_test2)\n",
    "y_predicted_LASSO = lassoreg.predict(X_test)\n",
    "y_predicted_svr_rbf = svr_rbf.predict(X_test2)\n",
    "y_predicted_MLP = MLP.predict(X_test2)\n",
    "\n",
    "r_RF=  r_score(y_test2, y_predicted_RF)\n",
    "MAE_RF = mean_absolute_error(y_test2, y_predicted_RF)\n",
    "MSE_RF = mean_squared_error(y_test2, y_predicted_RF)\n",
    "MAPE_RF = mean_absolute_percentage_error(y_test2, y_predicted_RF)\n",
    "\n",
    "r_LREG=  r_score(y_test, y_predicted_LREG)\n",
    "MAE_LREG = mean_absolute_error(y_test, y_predicted_LREG)\n",
    "MSE_LREG = mean_squared_error(y_test, y_predicted_LREG)\n",
    "MAPE_LREG = mean_absolute_percentage_error(y_test, y_predicted_LREG)\n",
    "\n",
    "r_RIDGE=  r_score(y_test, y_predicted_RIDGE)\n",
    "MAE_RIDGE = mean_absolute_error(y_test, y_predicted_RIDGE)\n",
    "MSE_RIDGE = mean_squared_error(y_test, y_predicted_RIDGE)\n",
    "MAPE_RIDGE = mean_absolute_percentage_error(y_test, y_predicted_RIDGE)\n",
    "\n",
    "r_XGB=  r_score(y_test2, y_predicted_XGB)\n",
    "MAE_XGB = mean_absolute_error(y_test2, y_predicted_XGB)\n",
    "MSE_XGB = mean_squared_error(y_test2, y_predicted_XGB)\n",
    "MAPE_XGB = mean_absolute_percentage_error(y_test2, y_predicted_XGB)\n",
    "\n",
    "r_LASSO=  r_score(y_test, y_predicted_LASSO)\n",
    "MAE_LASSO = mean_absolute_error(y_test, y_predicted_LASSO)\n",
    "MSE_LASSO = mean_squared_error(y_test, y_predicted_LASSO)\n",
    "MAPE_LASSO = mean_absolute_percentage_error(y_test, y_predicted_LASSO)\n",
    "\n",
    "r_svr_rbf=  r_score(y_test2, y_predicted_svr_rbf)\n",
    "MAE_svr_rbf = mean_absolute_error(y_test2, y_predicted_svr_rbf)\n",
    "MSE_svr_rbf = mean_squared_error(y_test2, y_predicted_svr_rbf)\n",
    "MAPE_svr_rbf = mean_absolute_percentage_error(y_test2, y_predicted_svr_rbf)\n",
    "\n",
    "r_MLP=  r_score(y_test2, y_predicted_MLP)\n",
    "MAE_MLP = mean_absolute_error(y_test2, y_predicted_MLP)\n",
    "MSE_MLP = mean_squared_error(y_test2, y_predicted_MLP)\n",
    "MAPE_MLP = mean_absolute_percentage_error(y_test2, y_predicted_MLP)\n",
    "\n",
    "errors = [{'Model Name': 'Random Forest Regression', 'R2': r_RF, 'MAE': MAE_RF, 'MSE': MSE_RF, 'MAPE (%)': np.mean(MAPE_RF), 'Median Error (%)': statistics.median(MAPE_RF)},\n",
    "          {'Model Name': 'Linear Regression', 'R2': r_LREG, 'MAE': MAE_LREG, 'MSE': MSE_LREG, 'MAPE (%)': np.mean(MAPE_LREG), 'Median Error (%)': statistics.median(MAPE_LREG)},\n",
    "          {'Model Name': 'Ridge Regression', 'R2': r_RIDGE, 'MAE': MAE_RIDGE, 'MSE': MSE_RIDGE, 'MAPE (%)': np.mean(MAPE_RIDGE), 'Median Error (%)': statistics.median(MAPE_RIDGE)},\n",
    "          {'Model Name': 'XGBoost Regression', 'R2': r_XGB, 'MAE': MAE_XGB, 'MSE': MSE_XGB, 'MAPE (%)': np.mean(MAPE_XGB), 'Median Error (%)': statistics.median(MAPE_XGB)},\n",
    "          {'Model Name': 'Lasso Regression', 'R2': r_LASSO, 'MAE': MAE_LASSO, 'MSE': MSE_LASSO, 'MAPE (%)': np.mean(MAPE_LASSO), 'Median Error (%)': statistics.median(MAPE_LASSO)},\n",
    "          {'Model Name': 'Support Vector Machine', 'R2': r_svr_rbf, 'MAE': MAE_svr_rbf, 'MSE': MSE_svr_rbf, 'MAPE (%)': np.mean(MAPE_svr_rbf), 'Median Error (%)': statistics.median(MAPE_svr_rbf)},\n",
    "          {'Model Name': 'Multi-layer Perceptron', 'R2': r_MLP, 'MAE': MAE_MLP, 'MSE': MSE_MLP, 'MAPE (%)': np.mean(MAPE_MLP), 'Median Error (%)': statistics.median(MAPE_MLP)}]\n",
    "\n",
    "df_estimationerrors = pd.DataFrame(errors)\n",
    "df_estimationerrors= df_estimationerrors.sort_values(by=['Median Error (%)'])"
   ]
  },
  {
   "cell_type": "markdown",
   "metadata": {},
   "source": [
    "Let's look at how our error table looks like:"
   ]
  },
  {
   "cell_type": "code",
   "execution_count": 27,
   "metadata": {},
   "outputs": [
    {
     "name": "stdout",
     "output_type": "stream",
     "text": [
      "                 Model Name        R2       MAE        MSE   MAPE (%)  \\\n",
      "0  Random Forest Regression  0.394357  2.213911   9.303641  22.560231   \n",
      "5    Support Vector Machine  0.200438  2.663320  12.282532  26.982137   \n",
      "3        XGBoost Regression  0.249081  2.641985  11.535310  27.109934   \n",
      "6    Multi-layer Perceptron  0.202111  2.736434  12.256838  27.674362   \n",
      "1         Linear Regression  0.140352  2.782276  13.082425  27.047742   \n",
      "4          Lasso Regression  0.140528  2.782735  13.079752  27.052476   \n",
      "2          Ridge Regression  0.138746  2.786991  13.106871  27.126285   \n",
      "\n",
      "   Median Error (%)  \n",
      "0         13.560000  \n",
      "5         16.776997  \n",
      "3         17.611227  \n",
      "6         18.078627  \n",
      "1         18.147954  \n",
      "4         18.255871  \n",
      "2         18.389583  \n"
     ]
    }
   ],
   "source": [
    "print(df_estimationerrors)"
   ]
  },
  {
   "cell_type": "markdown",
   "metadata": {},
   "source": [
    "We can also visualize our erros by BoxPlots:"
   ]
  },
  {
   "cell_type": "code",
   "execution_count": null,
   "metadata": {},
   "outputs": [],
   "source": [
    "#Boxplot \n",
    "import matplotlib.pyplot as plt \n",
    "\n",
    "# Create a figure instance\n",
    "fig = plt.figure(1, figsize=(9, 6))\n",
    "\n",
    "# Create an axes instance\n",
    "ax = fig.add_subplot(111)\n",
    "data_to_plot = [MAPE_RF,MAPE_MLP,MAPE_svr_rbf,MAPE_XGB,MAPE_RIDGE,MAPE_LASSO,MAPE_LREG]\n",
    "\n",
    "# Create the boxplot\n",
    "bp = ax.boxplot(data_to_plot)\n",
    "## add patch_artist=True option to ax.boxplot() \n",
    "## to get fill color\n",
    "bp = ax.boxplot(data_to_plot, patch_artist=True)\n",
    "\n",
    "## change outline color, fill color and linewidth of the boxes\n",
    "for box in bp['boxes']:\n",
    "    # change outline color\n",
    "    box.set( color='#7570b3', linewidth=2)\n",
    "    # change fill color\n",
    "    box.set( facecolor = '#1b9e77' )\n",
    "\n",
    "## change color and linewidth of the whiskers\n",
    "for whisker in bp['whiskers']:\n",
    "    whisker.set(color='#7570b3', linewidth=2)\n",
    "\n",
    "## change color and linewidth of the caps\n",
    "for cap in bp['caps']:\n",
    "    cap.set(color='#7570b3', linewidth=2)\n",
    "\n",
    "## change color and linewidth of the medians\n",
    "for median in bp['medians']:\n",
    "    median.set(color='#b2df8a', linewidth=2)\n",
    "\n",
    "## change the style of fliers and their fill\n",
    "for flier in bp['fliers']:\n",
    "    flier.set(marker='o', color='#e7298a', alpha=0.5)\n",
    "              \n",
    "## Custom x-axis labels\n",
    "ax.set_xticklabels(['Random Forest',  'MLP','SVM', 'XGBoost','Ridge','Lasso','Multi Linear'])\n",
    "ax.set_ylim(0,100)\n",
    "ax.set_ylabel(\"Percentage Error (%)\")\n",
    "## Remove top axes and right axes ticks\n",
    "ax.get_xaxis().tick_bottom()\n",
    "ax.get_yaxis().tick_left()\n",
    "\n",
    "fig.savefig('boxplots.png', dpi=1000)\n",
    "fig.savefig('boxplots.pdf')"
   ]
  },
  {
   "cell_type": "markdown",
   "metadata": {},
   "source": [
    "Moreover, perform a principal component analysis (PCA) using the random forest regression results:"
   ]
  },
  {
   "cell_type": "code",
   "execution_count": 29,
   "metadata": {},
   "outputs": [
    {
     "data": {
      "image/png": "[encoded data removed]",
      "text/plain": [
       "<Figure size 432x288 with 1 Axes>"
      ]
     },
     "metadata": {
      "needs_background": "light"
     },
     "output_type": "display_data"
    }
   ],
   "source": [
    "#Principal Component Analysis\n",
    "features = df.columns[:-1]\n",
    "importances = randreg.feature_importances_\n",
    "indices = np.argsort(importances)\n",
    "plt.figure(3) #the axis number\n",
    "plt.title('Feature Importance')\n",
    "plt.barh(range(len(indices)), importances[indices], color='b', align='center')\n",
    "plt.yticks(range(len(indices)), features[indices])\n",
    "plt.xlabel('Relative Importance')\n",
    "plt.savefig('Feature Importance.png', \n",
    "              bbox_inches='tight', dpi = 500,figsize=(8,6))\n",
    "\n",
    "df_estimationerrors.to_csv(\"errors.csv\")"
   ]
  },
  {
   "cell_type": "code",
   "execution_count": null,
   "metadata": {},
   "outputs": [],
   "source": []
  }
 ],
 "metadata": {
  "kernelspec": {
   "display_name": "Python 3",
   "language": "python",
   "name": "python3"
  },
  "language_info": {
   "codemirror_mode": {
    "name": "ipython",
    "version": 3
   },
   "file_extension": ".py",
   "mimetype": "text/x-python",
   "name": "python",
   "nbconvert_exporter": "python",
   "pygments_lexer": "ipython3",
   "version": "3.7.6"
  }
 },
 "nbformat": 4,
 "nbformat_minor": 2
}
