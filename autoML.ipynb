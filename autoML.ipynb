{
 "cells": [
  {
   "cell_type": "markdown",
   "metadata": {},
   "source": [
    "In this article, I will explain how to develop an Automated Supervised Machine Learning Regression program, which automatically tunes the hyperparameters and prints out the final results as tables, graphs and boxplots."
   ]
  },
  {
   "cell_type": "markdown",
   "metadata": {},
   "source": [
    "I always like to keep my libraries together, hence I import all of them at once in the beginning of the code."
   ]
  },
  {
   "cell_type": "code",
   "execution_count": 1,
   "metadata": {},
   "outputs": [],
   "source": [
    "import pandas as pd\n",
    "import numpy as np\n",
    "import statistics\n",
    "from xgboost import XGBRegressor\n",
    "from sklearn.model_selection import GridSearchCV\n",
    "from sklearn import preprocessing\n",
    "from sklearn.linear_model import LinearRegression\n",
    "from sklearn.linear_model import Ridge\n",
    "from sklearn.ensemble import RandomForestRegressor\n",
    "from sklearn.linear_model import Lasso\n",
    "from sklearn.svm import SVR\n",
    "from sklearn.neural_network import MLPRegressor\n",
    "from sklearn.preprocessing import PolynomialFeatures\n",
    "from sklearn import linear_model\n",
    "from sklearn.model_selection import train_test_split\n",
    "from sklearn.metrics import mean_absolute_error\n",
    "from sklearn.metrics import mean_squared_error"
   ]
  },
  {
   "cell_type": "markdown",
   "metadata": {},
   "source": [
    "Lets import our dataset and define the features and the predictors."
   ]
  },
  {
   "cell_type": "code",
   "execution_count": 2,
   "metadata": {},
   "outputs": [
    {
     "name": "stdout",
     "output_type": "stream",
     "text": [
      "Importing datasets\n"
     ]
    }
   ],
   "source": [
    "#Importing the datasets-------------------------------------------------------\n",
    "print (\"Importing datasets\")\n",
    "df = pd.read_csv('data.csv')  "
   ]
  },
  {
   "cell_type": "markdown",
   "metadata": {},
   "source": [
    "Let's take a look at how the dataset looks. I like using df.describe() function to have some statistics about each column."
   ]
  },
  {
   "cell_type": "code",
   "execution_count": 3,
   "metadata": {},
   "outputs": [
    {
     "data": {
      "text/html": [
       "<div>\n",
       "<style scoped>\n",
       "    .dataframe tbody tr th:only-of-type {\n",
       "        vertical-align: middle;\n",
       "    }\n",
       "\n",
       "    .dataframe tbody tr th {\n",
       "        vertical-align: top;\n",
       "    }\n",
       "\n",
       "    .dataframe thead th {\n",
       "        text-align: right;\n",
       "    }\n",
       "</style>\n",
       "<table border=\"1\" class=\"dataframe\">\n",
       "  <thead>\n",
       "    <tr style=\"text-align: right;\">\n",
       "      <th></th>\n",
       "      <th>A</th>\n",
       "      <th>B</th>\n",
       "      <th>C</th>\n",
       "      <th>D</th>\n",
       "    </tr>\n",
       "  </thead>\n",
       "  <tbody>\n",
       "    <tr>\n",
       "      <th>count</th>\n",
       "      <td>999.000000</td>\n",
       "      <td>999.000000</td>\n",
       "      <td>999.000000</td>\n",
       "      <td>999.000000</td>\n",
       "    </tr>\n",
       "    <tr>\n",
       "      <th>mean</th>\n",
       "      <td>25.330330</td>\n",
       "      <td>25.052052</td>\n",
       "      <td>24.791792</td>\n",
       "      <td>24.837838</td>\n",
       "    </tr>\n",
       "    <tr>\n",
       "      <th>std</th>\n",
       "      <td>14.690016</td>\n",
       "      <td>14.494809</td>\n",
       "      <td>14.485799</td>\n",
       "      <td>15.160588</td>\n",
       "    </tr>\n",
       "    <tr>\n",
       "      <th>min</th>\n",
       "      <td>0.000000</td>\n",
       "      <td>0.000000</td>\n",
       "      <td>0.000000</td>\n",
       "      <td>0.000000</td>\n",
       "    </tr>\n",
       "    <tr>\n",
       "      <th>25%</th>\n",
       "      <td>13.000000</td>\n",
       "      <td>13.000000</td>\n",
       "      <td>12.000000</td>\n",
       "      <td>12.000000</td>\n",
       "    </tr>\n",
       "    <tr>\n",
       "      <th>50%</th>\n",
       "      <td>25.000000</td>\n",
       "      <td>25.000000</td>\n",
       "      <td>24.000000</td>\n",
       "      <td>25.000000</td>\n",
       "    </tr>\n",
       "    <tr>\n",
       "      <th>75%</th>\n",
       "      <td>38.000000</td>\n",
       "      <td>37.000000</td>\n",
       "      <td>37.000000</td>\n",
       "      <td>38.000000</td>\n",
       "    </tr>\n",
       "    <tr>\n",
       "      <th>max</th>\n",
       "      <td>50.000000</td>\n",
       "      <td>50.000000</td>\n",
       "      <td>50.000000</td>\n",
       "      <td>50.000000</td>\n",
       "    </tr>\n",
       "  </tbody>\n",
       "</table>\n",
       "</div>"
      ],
      "text/plain": [
       "                A           B           C           D\n",
       "count  999.000000  999.000000  999.000000  999.000000\n",
       "mean    25.330330   25.052052   24.791792   24.837838\n",
       "std     14.690016   14.494809   14.485799   15.160588\n",
       "min      0.000000    0.000000    0.000000    0.000000\n",
       "25%     13.000000   13.000000   12.000000   12.000000\n",
       "50%     25.000000   25.000000   24.000000   25.000000\n",
       "75%     38.000000   37.000000   37.000000   38.000000\n",
       "max     50.000000   50.000000   50.000000   50.000000"
      ]
     },
     "execution_count": 3,
     "metadata": {},
     "output_type": "execute_result"
    }
   ],
   "source": [
    "df.describe()"
   ]
  },
  {
   "cell_type": "markdown",
   "metadata": {},
   "source": [
    "As illustrated, this is a dataset with random points, which has a maximum value of 50 and minimum 0 in all columns. This is a 999x4 data. "
   ]
  },
  {
   "cell_type": "markdown",
   "metadata": {},
   "source": [
    "Let's define the features as X and the column we want to predict (column D) as y. "
   ]
  },
  {
   "cell_type": "code",
   "execution_count": 4,
   "metadata": {},
   "outputs": [],
   "source": [
    "X = df.iloc[:,:-1].values \n",
    "y = df.iloc[:,3].values"
   ]
  },
  {
   "cell_type": "markdown",
   "metadata": {},
   "source": [
    "This defines X as all the values except the last column (columns A,B and C), and y as the last column (column numbers start from zero, hence: 0 - A, 1 - B, 2 - C, 3 - D)."
   ]
  },
  {
   "cell_type": "markdown",
   "metadata": {},
   "source": [
    "For some algorithms we might want to use X as preprocessed (normalized) values (X2). This mostly provides higher accuracies for algorithms such as Multi Layer Perceptron (MLP) or Support Vector Machines (SVM). Hence, for the rest of the program, X2 will be used for non-linear ML algorithms such as random forest, XGBoost, MLP, SVM. However, X will be used for polynomial regressions and linear regression to evaluate the regression constants easier."
   ]
  },
  {
   "cell_type": "code",
   "execution_count": 5,
   "metadata": {},
   "outputs": [],
   "source": [
    "X2 = preprocessing.scale(X)"
   ]
  },
  {
   "cell_type": "markdown",
   "metadata": {},
   "source": [
    "We have to split our dataset as train and test data. For this we can use train_test_split by sklearn.model_selection. We will do this for both X and X2. Test size of 0.20 means that 20% of the data will be used as test data and 80% of the data will be used for training."
   ]
  },
  {
   "cell_type": "code",
   "execution_count": 6,
   "metadata": {},
   "outputs": [],
   "source": [
    "X_train, X_test, y_train, y_test= train_test_split(X,y,test_size = 0.20)\n",
    "X_train2, X_test2, y_train2, y_test2= train_test_split(X2,y,test_size = 0.20)\n"
   ]
  },
  {
   "cell_type": "markdown",
   "metadata": {},
   "source": [
    "We might not always want to tune the parameters of models, or only tune for some models. For this I have defined basic inputs. When they are set to \"yes\", the program will perform the tuning."
   ]
  },
  {
   "cell_type": "code",
   "execution_count": 7,
   "metadata": {},
   "outputs": [],
   "source": [
    "#Inputs------------------------------------------------------------------------\n",
    "randomforestparametertuning = \"yes\"\n",
    "XGboostparametertuning = \"yes\"\n",
    "SVMparametertuning =\"yes\"\n",
    "MLPparametertuning =\"yes\""
   ]
  },
  {
   "cell_type": "markdown",
   "metadata": {},
   "source": [
    "The first one is training, testing and tuning the random forest regression. The values of param_grid might be updated regarding the problem (i.e., some problems might require higher values of n_estimators, while some might require lower ranges)."
   ]
  },
  {
   "cell_type": "code",
   "execution_count": 8,
   "metadata": {},
   "outputs": [
    {
     "name": "stdout",
     "output_type": "stream",
     "text": [
      "Performing gridsearch in random forest\n",
      "Fitting 3 folds for each of 324 candidates, totalling 972 fits\n"
     ]
    },
    {
     "name": "stderr",
     "output_type": "stream",
     "text": [
      "[Parallel(n_jobs=-1)]: Using backend LokyBackend with 4 concurrent workers.\n",
      "[Parallel(n_jobs=-1)]: Done  33 tasks      | elapsed:   10.5s\n",
      "[Parallel(n_jobs=-1)]: Done 154 tasks      | elapsed:   41.7s\n",
      "[Parallel(n_jobs=-1)]: Done 357 tasks      | elapsed:  1.7min\n",
      "[Parallel(n_jobs=-1)]: Done 640 tasks      | elapsed:  2.8min\n",
      "[Parallel(n_jobs=-1)]: Done 972 out of 972 | elapsed:  4.0min finished\n"
     ]
    }
   ],
   "source": [
    "if randomforestparametertuning == \"yes\":\n",
    "    print (\"Performing gridsearch in random forest\")\n",
    "\n",
    "    # Create the parameter grid based on the results of random search \n",
    "    param_grid = {\n",
    "        'bootstrap': [True,False],\n",
    "        'max_depth': [40, 50, 60],\n",
    "        'max_features': ['auto', 'sqrt'],\n",
    "        'min_samples_leaf': [1,2,3,],\n",
    "        'min_samples_split': [3,4,5],\n",
    "        'n_estimators': [100, 200, 300]\n",
    "    }\n",
    "    # Create a based model\n",
    "    rf = RandomForestRegressor()\n",
    "    # Instantiate the grid search model\n",
    "    grid_search_RF = GridSearchCV(estimator = rf, param_grid = param_grid, \n",
    "                              cv = 3, n_jobs = -1, verbose = 2)\n",
    "    \n",
    "    # Fit the grid search to the data\n",
    "    grid_search_RF.fit(X_train2, y_train2)"
   ]
  },
  {
   "cell_type": "markdown",
   "metadata": {},
   "source": [
    "The second one is training, testing and tuning the XGBoost regression. The values of grid might be updated regarding the problem (i.e., some problems might require higher values of n_estimators, while some might require lower ranges)."
   ]
  },
  {
   "cell_type": "code",
   "execution_count": 9,
   "metadata": {
    "scrolled": true
   },
   "outputs": [
    {
     "name": "stdout",
     "output_type": "stream",
     "text": [
      "XGBoost parameter tuning\n",
      "Fitting 3 folds for each of 38880 candidates, totalling 116640 fits\n"
     ]
    },
    {
     "name": "stderr",
     "output_type": "stream",
     "text": [
      "[Parallel(n_jobs=-1)]: Using backend LokyBackend with 4 concurrent workers.\n",
      "[Parallel(n_jobs=-1)]: Done  44 tasks      | elapsed:    1.8s\n",
      "[Parallel(n_jobs=-1)]: Done 1832 tasks      | elapsed:   12.5s\n",
      "[Parallel(n_jobs=-1)]: Done 5080 tasks      | elapsed:   34.2s\n",
      "[Parallel(n_jobs=-1)]: Done 9608 tasks      | elapsed:  1.1min\n",
      "[Parallel(n_jobs=-1)]: Done 15448 tasks      | elapsed:  1.8min\n",
      "[Parallel(n_jobs=-1)]: Done 22568 tasks      | elapsed:  2.6min\n",
      "[Parallel(n_jobs=-1)]: Done 31000 tasks      | elapsed:  3.7min\n",
      "[Parallel(n_jobs=-1)]: Done 38912 tasks      | elapsed:  4.8min\n",
      "[Parallel(n_jobs=-1)]: Done 49936 tasks      | elapsed:  6.2min\n",
      "[Parallel(n_jobs=-1)]: Done 62240 tasks      | elapsed:  7.7min\n",
      "[Parallel(n_jobs=-1)]: Done 75856 tasks      | elapsed:  9.1min\n",
      "[Parallel(n_jobs=-1)]: Done 81808 tasks      | elapsed: 10.1min\n",
      "[Parallel(n_jobs=-1)]: Done 89692 tasks      | elapsed: 11.3min\n",
      "[Parallel(n_jobs=-1)]: Done 98436 tasks      | elapsed: 12.3min\n",
      "[Parallel(n_jobs=-1)]: Done 107836 tasks      | elapsed: 13.6min\n",
      "[Parallel(n_jobs=-1)]: Done 116640 out of 116640 | elapsed: 15.0min finished\n"
     ]
    },
    {
     "name": "stdout",
     "output_type": "stream",
     "text": [
      "[22:07:12] WARNING: src/objective/regression_obj.cu:152: reg:linear is now deprecated in favor of reg:squarederror.\n"
     ]
    }
   ],
   "source": [
    "#XGBoost Parameter Tuning------------------------------------------------------\n",
    "if XGboostparametertuning == \"yes\":\n",
    "    print(\"XGBoost parameter tuning\")\n",
    "    # Create the parameter grid based on the results of random search \n",
    "    grid = {'colsample_bytree': [0.9,0.8,0.7],\n",
    "                    'gamma': [2,3,4,5],\n",
    "                    'learning_rate': [0.1,0.2,0.3],\n",
    "                    'max_depth': [8,9,10,11,12],\n",
    "                    'n_estimators': [10,15,20,25],\n",
    "                    'subsample': [0.8,0.9,1],\n",
    "                    'reg_alpha': [15,16,17,18,19,20],\n",
    "                    'min_child_weight':[3,4,5]}\n",
    "\n",
    "    # Create a based model\n",
    "    XGB = XGBRegressor()\n",
    "    # Instantiate the grid search model\n",
    "    grid_search_XGB = GridSearchCV(estimator = XGB, param_grid = grid, \n",
    "                              cv = 3, n_jobs = -1, verbose = 2)\n",
    "    \n",
    "    # Fit the grid search to the data\n",
    "    grid_search_XGB.fit(X_train2, y_train2)"
   ]
  },
  {
   "cell_type": "markdown",
   "metadata": {},
   "source": [
    "The third one is training, testing and tuning the SVM regression. The values of C_range or gamma_range might be updated regarding the problem."
   ]
  },
  {
   "cell_type": "code",
   "execution_count": 10,
   "metadata": {},
   "outputs": [
    {
     "name": "stdout",
     "output_type": "stream",
     "text": [
      "SVM parameter tuning\n",
      "Fitting 3 folds for each of 63 candidates, totalling 189 fits\n"
     ]
    },
    {
     "name": "stderr",
     "output_type": "stream",
     "text": [
      "[Parallel(n_jobs=-1)]: Using backend LokyBackend with 4 concurrent workers.\n",
      "[Parallel(n_jobs=-1)]: Done  58 tasks      | elapsed:    1.6s\n",
      "[Parallel(n_jobs=-1)]: Done 189 out of 189 | elapsed:  1.7min finished\n"
     ]
    }
   ],
   "source": [
    "#SVM Parameter Tuning----------------------------------------------------------\n",
    "if SVMparametertuning == \"yes\":\n",
    "    print(\"SVM parameter tuning\")\n",
    "\n",
    "    C_range = 10. ** np.arange(-3, 6)\n",
    "    gamma_range = 10. ** np.arange(-5, 2)\n",
    "    param_grid = dict(gamma=gamma_range, C=C_range)\n",
    "    svr_rbf = SVR()\n",
    "    # Instantiate the grid search model\n",
    "    grid_search_svm = GridSearchCV(estimator = svr_rbf, param_grid = param_grid, \n",
    "                              cv = 3, n_jobs = -1, verbose = 2)\n",
    "    # Fit the grid search to the data\n",
    "    grid_search_svm.fit(X_train2, y_train2)"
   ]
  },
  {
   "cell_type": "markdown",
   "metadata": {},
   "source": [
    "The fourth one is training, testing and tuning the MLP algorithm. The values of param_grid might be updated regarding the problem."
   ]
  },
  {
   "cell_type": "code",
   "execution_count": 11,
   "metadata": {},
   "outputs": [
    {
     "name": "stderr",
     "output_type": "stream",
     "text": [
      "[Parallel(n_jobs=-1)]: Using backend LokyBackend with 4 concurrent workers.\n"
     ]
    },
    {
     "name": "stdout",
     "output_type": "stream",
     "text": [
      "SVM parameter tuning\n",
      "Fitting 3 folds for each of 360 candidates, totalling 1080 fits\n"
     ]
    },
    {
     "name": "stderr",
     "output_type": "stream",
     "text": [
      "[Parallel(n_jobs=-1)]: Done  58 tasks      | elapsed:    4.9s\n",
      "[Parallel(n_jobs=-1)]: Done 222 tasks      | elapsed:   21.8s\n",
      "[Parallel(n_jobs=-1)]: Done 425 tasks      | elapsed:  1.0min\n",
      "[Parallel(n_jobs=-1)]: Done 708 tasks      | elapsed:  2.0min\n",
      "[Parallel(n_jobs=-1)]: Done 1073 tasks      | elapsed:  3.3min\n",
      "[Parallel(n_jobs=-1)]: Done 1080 out of 1080 | elapsed:  3.4min finished\n",
      "/opt/anaconda3/lib/python3.7/site-packages/sklearn/neural_network/_multilayer_perceptron.py:571: ConvergenceWarning: Stochastic Optimizer: Maximum iterations (200) reached and the optimization hasn't converged yet.\n",
      "  % self.max_iter, ConvergenceWarning)\n"
     ]
    }
   ],
   "source": [
    "if MLPparametertuning == \"yes\":\n",
    "    print(\"SVM parameter tuning\")\n",
    "\n",
    "    param_grid = {\n",
    "        'hidden_layer_sizes': [10,20,30,40,50,60,70,80,90,100],\n",
    "        'activation': ['identity','logistic','tanh','relu'],\n",
    "        'solver': ['lbfgs', 'sgd','adam'],\n",
    "        'learning_rate': ['constant','invscaling','adaptive']}\n",
    "    MLP = MLPRegressor()\n",
    "    # Instantiate the grid search model\n",
    "    grid_search_MLP = GridSearchCV(estimator = MLP, param_grid = param_grid, \n",
    "                              cv = 3, n_jobs = -1, verbose = 2)\n",
    "    \n",
    "    # Fit the grid search to the data\n",
    "    grid_search_MLP.fit(X_train2, y_train2)"
   ]
  },
  {
   "cell_type": "markdown",
   "metadata": {},
   "source": [
    "The below commands provide a summary of the best parameters obtained from the GridSearch of all these four algortihms."
   ]
  },
  {
   "cell_type": "code",
   "execution_count": 12,
   "metadata": {},
   "outputs": [
    {
     "name": "stdout",
     "output_type": "stream",
     "text": [
      "Grid Search Best Parameters for Random Forest Regression\n",
      "{'bootstrap': True, 'max_depth': 50, 'max_features': 'sqrt', 'min_samples_leaf': 3, 'min_samples_split': 4, 'n_estimators': 100}\n",
      "Grid Search Best Parameters for XGBoost\n",
      "{'colsample_bytree': 0.9, 'gamma': 5, 'learning_rate': 0.2, 'max_depth': 11, 'min_child_weight': 5, 'n_estimators': 15, 'reg_alpha': 16, 'subsample': 0.8}\n",
      "Grid Search Best Parameters for SVM\n",
      "{'C': 1.0, 'gamma': 10.0}\n",
      "Grid Search Best Parameters for MLP\n",
      "{'activation': 'tanh', 'hidden_layer_sizes': 20, 'learning_rate': 'constant', 'solver': 'sgd'}\n"
     ]
    }
   ],
   "source": [
    "#Summary of the tuning parameters----------------------------------------------\n",
    "print(\"Grid Search Best Parameters for Random Forest Regression\")\n",
    "print (grid_search_RF.best_params_)\n",
    "print(\"Grid Search Best Parameters for XGBoost\")\n",
    "print (grid_search_XGB.best_params_)    \n",
    "print(\"Grid Search Best Parameters for SVM\")\n",
    "print (grid_search_svm.best_params_)\n",
    "print(\"Grid Search Best Parameters for MLP\")\n",
    "print (grid_search_MLP.best_params_)"
   ]
  },
  {
   "cell_type": "markdown",
   "metadata": {},
   "source": [
    "Next thing, we will be fitting 9 different algortihms to our data to see which one performs the best. These are namely: multi linear regression, ridge regression, lasso regression, polynomial regression (degree=2), polynomial regression (degree=3), random forest regression (with the best parameters obtained from GridSearch), XGBoost regression (with the best parameters obtained from GridSearch), SVM regression (with the best parameters obtained from GridSearch) and MLP (with the best parameters obtained from GridSearch)."
   ]
  },
  {
   "cell_type": "code",
   "execution_count": 13,
   "metadata": {},
   "outputs": [
    {
     "name": "stdout",
     "output_type": "stream",
     "text": [
      "Fit multilinear regression\n",
      "Fit ridge regression\n",
      "Fit Lasso regression\n",
      "Fit polynomial regression degree=2\n",
      "Fit polynomial regression degree=3\n",
      "Fit random forest regression\n",
      "Fit XGBoost regression\n",
      "[22:12:20] WARNING: src/objective/regression_obj.cu:152: reg:linear is now deprecated in favor of reg:squarederror.\n",
      "Fit SVR RBF regression\n",
      "Fit Multi-layer Perceptron regressor\n"
     ]
    },
    {
     "name": "stderr",
     "output_type": "stream",
     "text": [
      "/opt/anaconda3/lib/python3.7/site-packages/sklearn/neural_network/_multilayer_perceptron.py:571: ConvergenceWarning: Stochastic Optimizer: Maximum iterations (200) reached and the optimization hasn't converged yet.\n",
      "  % self.max_iter, ConvergenceWarning)\n"
     ]
    },
    {
     "data": {
      "text/plain": [
       "MLPRegressor(activation='tanh', alpha=0.0001, batch_size='auto', beta_1=0.9,\n",
       "             beta_2=0.999, early_stopping=False, epsilon=1e-08,\n",
       "             hidden_layer_sizes=20, learning_rate='constant',\n",
       "             learning_rate_init=0.001, max_fun=15000, max_iter=200,\n",
       "             momentum=0.9, n_iter_no_change=10, nesterovs_momentum=True,\n",
       "             power_t=0.5, random_state=None, shuffle=True, solver='sgd',\n",
       "             tol=0.0001, validation_fraction=0.1, verbose=False,\n",
       "             warm_start=False)"
      ]
     },
     "execution_count": 13,
     "metadata": {},
     "output_type": "execute_result"
    }
   ],
   "source": [
    "#Fitting multi linear regression to data---------------------------------------\n",
    "print (\"Fit multilinear regression\")\n",
    "linreg = LinearRegression()\n",
    "linreg.fit(X_train,y_train)\n",
    "\n",
    "#Fitting ridge regression to data----------------------------------------------\n",
    "print (\"Fit ridge regression\")\n",
    "ridgeReg = Ridge(alpha=0.05, normalize=True)\n",
    "ridgeReg.fit(X_train,y_train)\n",
    "\n",
    "#Fitting LASSO regression to data----------------------------------------------\n",
    "print (\"Fit Lasso regression\")\n",
    "lassoreg = Lasso(alpha=0.01, max_iter=10e5)\n",
    "lassoreg.fit(X_train, y_train)\n",
    "\n",
    "#Polynomial regression 2 degrees\n",
    "print (\"Fit polynomial regression degree=2\")\n",
    "poly2 = PolynomialFeatures(degree=2)\n",
    "X_train_trans = poly2.fit_transform(X_train)\n",
    "polyreg2 = linear_model.LinearRegression()\n",
    "p=polyreg2.fit(X_train_trans,y_train)\n",
    "poly2_coef = polyreg2.coef_\n",
    "\n",
    "#Polynomial regression 3 degrees\n",
    "print (\"Fit polynomial regression degree=3\")\n",
    "poly3 = PolynomialFeatures(degree=3)\n",
    "X_train_trans = poly3.fit_transform(X_train)\n",
    "polyreg3 = linear_model.LinearRegression()\n",
    "polyreg3.fit(X_train_trans,y_train)\n",
    "poly3_coef = polyreg3.coef_\n",
    "\n",
    "#Fitting random forest regression to data--------------------------------------\n",
    "print (\"Fit random forest regression\")\n",
    "randreg = RandomForestRegressor(**grid_search_RF.best_params_)\n",
    "randreg.fit(X_train2,y_train2)\n",
    "\n",
    "#Fitting XGboost regression to data--------------------------------------------\n",
    "print (\"Fit XGBoost regression\")\n",
    "XGBreg = XGBRegressor(**grid_search_XGB.best_params_)\n",
    "XGBreg.fit(X_train2, y_train2)\n",
    "\n",
    "#Support Vector Machines-------------------------------------------------------\n",
    "svr_rbf = SVR(**grid_search_svm.best_params_)\n",
    "print (\"Fit SVR RBF regression\")\n",
    "svr_rbf.fit(X_train2, y_train2)\n",
    "\n",
    "#MLP Regressor-----------------------------------------------------------------\n",
    "MLP = MLPRegressor(**grid_search_MLP.best_params_)\n",
    "print (\"Fit Multi-layer Perceptron regressor\")\n",
    "MLP.fit(X_train2, y_train2)"
   ]
  },
  {
   "cell_type": "markdown",
   "metadata": {},
   "source": [
    "For the error analysis, we are using four different statistics. The first one is r_score, which is the r2 (coefficient of determination) of the test data and the predicted data. The second is MAE = Mean Absolute Error, the third one is MSE = Mean Squared Error and the third one is MAPE = Mean Absolute Percentage Error. The MAE and MSE calculations come directly from sklearn.metrics / mean_absolute_error and mean_squared_error. For the r_score and MAPE, we are defining below functions."
   ]
  },
  {
   "cell_type": "code",
   "execution_count": 14,
   "metadata": {},
   "outputs": [],
   "source": [
    "#Define the missing sklearn.metrics parameter of mean absolute percentage error\n",
    "def mean_absolute_percentage_error(y_true, y_pred): \n",
    "    y_true, y_pred = np.array(y_true), np.array(y_pred)\n",
    "    return (np.abs((y_true - y_pred) / y_true)) * 100\n",
    "\n",
    "def r_score(y_true, y_pred): \n",
    "    y_true, y_pred = np.array(y_true), np.array(y_pred)\n",
    "    residuals = y_true- y_pred\n",
    "    ss_res = np.sum(residuals**2)\n",
    "    ss_tot = np.sum((y_true-np.mean(y_true))**2)\n",
    "    r_squared = 1 - (ss_res / ss_tot)    \n",
    "    return r_squared"
   ]
  },
  {
   "cell_type": "markdown",
   "metadata": {},
   "source": [
    "Now that the error statistics are defined, lets predict the predicted values by the algorithm and calculate the errors."
   ]
  },
  {
   "cell_type": "code",
   "execution_count": 15,
   "metadata": {},
   "outputs": [
    {
     "name": "stderr",
     "output_type": "stream",
     "text": [
      "/opt/anaconda3/lib/python3.7/site-packages/ipykernel_launcher.py:4: RuntimeWarning: divide by zero encountered in true_divide\n",
      "  after removing the cwd from sys.path.\n",
      "/opt/anaconda3/lib/python3.7/site-packages/ipykernel_launcher.py:4: RuntimeWarning: divide by zero encountered in true_divide\n",
      "  after removing the cwd from sys.path.\n",
      "/opt/anaconda3/lib/python3.7/site-packages/ipykernel_launcher.py:4: RuntimeWarning: divide by zero encountered in true_divide\n",
      "  after removing the cwd from sys.path.\n",
      "/opt/anaconda3/lib/python3.7/site-packages/ipykernel_launcher.py:4: RuntimeWarning: divide by zero encountered in true_divide\n",
      "  after removing the cwd from sys.path.\n",
      "/opt/anaconda3/lib/python3.7/site-packages/ipykernel_launcher.py:4: RuntimeWarning: divide by zero encountered in true_divide\n",
      "  after removing the cwd from sys.path.\n",
      "/opt/anaconda3/lib/python3.7/site-packages/ipykernel_launcher.py:4: RuntimeWarning: divide by zero encountered in true_divide\n",
      "  after removing the cwd from sys.path.\n",
      "/opt/anaconda3/lib/python3.7/site-packages/ipykernel_launcher.py:4: RuntimeWarning: divide by zero encountered in true_divide\n",
      "  after removing the cwd from sys.path.\n",
      "/opt/anaconda3/lib/python3.7/site-packages/ipykernel_launcher.py:4: RuntimeWarning: divide by zero encountered in true_divide\n",
      "  after removing the cwd from sys.path.\n",
      "/opt/anaconda3/lib/python3.7/site-packages/ipykernel_launcher.py:4: RuntimeWarning: divide by zero encountered in true_divide\n",
      "  after removing the cwd from sys.path.\n"
     ]
    }
   ],
   "source": [
    "y_predicted_RF = randreg.predict(X_test2)\n",
    "y_predicted_LREG = linreg.predict(X_test)\n",
    "y_predicted_RIDGE = ridgeReg.predict(X_test)\n",
    "y_predicted_XGB = XGBreg.predict(X_test2)\n",
    "y_predicted_LASSO = lassoreg.predict(X_test)\n",
    "y_predicted_svr_rbf = svr_rbf.predict(X_test2)\n",
    "y_predicted_MLP = MLP.predict(X_test2)\n",
    "y_predicted_PREG2 = polyreg2.predict(poly2.fit_transform(X_test))\n",
    "y_predicted_PREG3 = polyreg3.predict(poly3.fit_transform(X_test))\n",
    "\n",
    "r_RF=  r_score(y_test2, y_predicted_RF)\n",
    "MAE_RF = mean_absolute_error(y_test2, y_predicted_RF)\n",
    "MSE_RF = mean_squared_error(y_test2, y_predicted_RF)\n",
    "MAPE_RF = mean_absolute_percentage_error(y_test2, y_predicted_RF)\n",
    "\n",
    "r_LREG=  r_score(y_test, y_predicted_LREG)\n",
    "MAE_LREG = mean_absolute_error(y_test, y_predicted_LREG)\n",
    "MSE_LREG = mean_squared_error(y_test, y_predicted_LREG)\n",
    "MAPE_LREG = mean_absolute_percentage_error(y_test, y_predicted_LREG)\n",
    "\n",
    "r_RIDGE=  r_score(y_test, y_predicted_RIDGE)\n",
    "MAE_RIDGE = mean_absolute_error(y_test, y_predicted_RIDGE)\n",
    "MSE_RIDGE = mean_squared_error(y_test, y_predicted_RIDGE)\n",
    "MAPE_RIDGE = mean_absolute_percentage_error(y_test, y_predicted_RIDGE)\n",
    "\n",
    "r_XGB=  r_score(y_test2, y_predicted_XGB)\n",
    "MAE_XGB = mean_absolute_error(y_test2, y_predicted_XGB)\n",
    "MSE_XGB = mean_squared_error(y_test2, y_predicted_XGB)\n",
    "MAPE_XGB = mean_absolute_percentage_error(y_test2, y_predicted_XGB)\n",
    "\n",
    "r_LASSO=  r_score(y_test, y_predicted_LASSO)\n",
    "MAE_LASSO = mean_absolute_error(y_test, y_predicted_LASSO)\n",
    "MSE_LASSO = mean_squared_error(y_test, y_predicted_LASSO)\n",
    "MAPE_LASSO = mean_absolute_percentage_error(y_test, y_predicted_LASSO)\n",
    "\n",
    "r_svr_rbf=  r_score(y_test2, y_predicted_svr_rbf)\n",
    "MAE_svr_rbf = mean_absolute_error(y_test2, y_predicted_svr_rbf)\n",
    "MSE_svr_rbf = mean_squared_error(y_test2, y_predicted_svr_rbf)\n",
    "MAPE_svr_rbf = mean_absolute_percentage_error(y_test2, y_predicted_svr_rbf)\n",
    "\n",
    "r_MLP=  r_score(y_test2, y_predicted_MLP)\n",
    "MAE_MLP = mean_absolute_error(y_test2, y_predicted_MLP)\n",
    "MSE_MLP = mean_squared_error(y_test2, y_predicted_MLP)\n",
    "MAPE_MLP = mean_absolute_percentage_error(y_test2, y_predicted_MLP)\n",
    "\n",
    "r_PREG2= r_score(y_test, y_predicted_PREG2)\n",
    "MAE_PREG2= mean_absolute_error(y_test, y_predicted_PREG2)\n",
    "MSE_PREG2= mean_squared_error(y_test, y_predicted_PREG2)\n",
    "MAPE_PREG2= np.mean(mean_absolute_percentage_error(y_test, y_predicted_PREG2))\n",
    "\n",
    "r_PREG3= r_score(y_test, y_predicted_PREG3)\n",
    "MAE_PREG3= mean_absolute_error(y_test, y_predicted_PREG3)\n",
    "MSE_PREG3= mean_squared_error(y_test, y_predicted_PREG3)\n",
    "MAPE_PREG3= np.mean(mean_absolute_percentage_error(y_test, y_predicted_PREG3))\n",
    "\n",
    "errors = [{'Model Name': 'Random Forest Regression', 'R2': r_RF, 'MAE': MAE_RF, 'MSE': MSE_RF, 'MAPE (%)': np.mean(MAPE_RF), 'Median Error (%)': statistics.median(MAPE_RF)},\n",
    "          {'Model Name': 'Linear Regression', 'R2': r_LREG, 'MAE': MAE_LREG, 'MSE': MSE_LREG, 'MAPE (%)': np.mean(MAPE_LREG), 'Median Error (%)': statistics.median(MAPE_LREG)},\n",
    "          {'Model Name': 'Ridge Regression', 'R2': r_RIDGE, 'MAE': MAE_RIDGE, 'MSE': MSE_RIDGE, 'MAPE (%)': np.mean(MAPE_RIDGE), 'Median Error (%)': statistics.median(MAPE_RIDGE)},\n",
    "          {'Model Name': 'XGBoost Regression', 'R2': r_XGB, 'MAE': MAE_XGB, 'MSE': MSE_XGB, 'MAPE (%)': np.mean(MAPE_XGB), 'Median Error (%)': statistics.median(MAPE_XGB)},\n",
    "          {'Model Name': 'Lasso Regression', 'R2': r_LASSO, 'MAE': MAE_LASSO, 'MSE': MSE_LASSO, 'MAPE (%)': np.mean(MAPE_LASSO), 'Median Error (%)': statistics.median(MAPE_LASSO)},\n",
    "          {'Model Name': 'Support Vector Machine', 'R2': r_svr_rbf, 'MAE': MAE_svr_rbf, 'MSE': MSE_svr_rbf, 'MAPE (%)': np.mean(MAPE_svr_rbf), 'Median Error (%)': statistics.median(MAPE_svr_rbf)},\n",
    "          {'Model Name': 'Multi-layer Perceptron', 'R2': r_MLP, 'MAE': MAE_MLP, 'MSE': MSE_MLP, 'MAPE (%)': np.mean(MAPE_MLP), 'Median Error (%)': statistics.median(MAPE_MLP)},\n",
    "          {'Model Name': '2nd Polynomial Regression', 'R2': r_PREG2 , 'MAE': MAE_PREG2 , 'MSE': MSE_PREG2 , 'MAPE (%)': MAPE_PREG2},\n",
    "          {'Model Name': '3rd Polynomial Regression', 'R2': r_PREG3 , 'MAE': MAE_PREG3 , 'MSE': MSE_PREG3 , 'MAPE (%)': MAPE_PREG3}]\n",
    "\n",
    "df_estimationerrors = pd.DataFrame(errors)\n",
    "df_estimationerrors= df_estimationerrors.sort_values(by=['Median Error (%)'])"
   ]
  },
  {
   "cell_type": "markdown",
   "metadata": {},
   "source": [
    "Let's look at how our error table looks like:"
   ]
  },
  {
   "cell_type": "code",
   "execution_count": 16,
   "metadata": {},
   "outputs": [
    {
     "name": "stdout",
     "output_type": "stream",
     "text": [
      "                  Model Name        R2        MAE         MSE  MAPE (%)  \\\n",
      "1          Linear Regression -0.020588  12.053405  201.081182       inf   \n",
      "4           Lasso Regression -0.020576  12.053432  201.078812       inf   \n",
      "2           Ridge Regression -0.019932  12.052451  200.951796       inf   \n",
      "6     Multi-layer Perceptron -0.033154  13.295343  235.210240       inf   \n",
      "0   Random Forest Regression -0.112244  13.626612  253.216151       inf   \n",
      "5     Support Vector Machine -0.017291  13.176381  231.599012       inf   \n",
      "3         XGBoost Regression -0.134958  13.669333  258.387192       inf   \n",
      "7  2nd Polynomial Regression -0.016995  12.045494  200.373243       inf   \n",
      "8  3rd Polynomial Regression  0.008126  11.821172  195.423782       inf   \n",
      "\n",
      "   Median Error (%)  \n",
      "1         39.029110  \n",
      "4         39.031660  \n",
      "2         39.084200  \n",
      "6         42.218712  \n",
      "0         43.739991  \n",
      "5         44.800299  \n",
      "3         45.744380  \n",
      "7               NaN  \n",
      "8               NaN  \n"
     ]
    }
   ],
   "source": [
    "print(df_estimationerrors)"
   ]
  },
  {
   "cell_type": "markdown",
   "metadata": {},
   "source": [
    "We can also visualize our erros by BoxPlots:"
   ]
  },
  {
   "cell_type": "code",
   "execution_count": 17,
   "metadata": {},
   "outputs": [
    {
     "name": "stderr",
     "output_type": "stream",
     "text": [
      "/opt/anaconda3/lib/python3.7/site-packages/numpy/lib/function_base.py:3942: RuntimeWarning: invalid value encountered in multiply\n",
      "  x2 = take(ap, indices_above, axis=axis) * weights_above\n",
      "/opt/anaconda3/lib/python3.7/site-packages/numpy/lib/function_base.py:3942: RuntimeWarning: invalid value encountered in multiply\n",
      "  x2 = take(ap, indices_above, axis=axis) * weights_above\n"
     ]
    },
    {
     "data": {
      "image/png": "[encoded data removed]",
      "text/plain": [
       "<Figure size 648x432 with 1 Axes>"
      ]
     },
     "metadata": {
      "needs_background": "light"
     },
     "output_type": "display_data"
    }
   ],
   "source": [
    "#Boxplot \n",
    "import matplotlib.pyplot as plt \n",
    "\n",
    "# Create a figure instance\n",
    "fig = plt.figure(1, figsize=(9, 6))\n",
    "\n",
    "# Create an axes instance\n",
    "ax = fig.add_subplot(111)\n",
    "data_to_plot = [MAPE_RF,MAPE_MLP,MAPE_svr_rbf,MAPE_XGB,MAPE_RIDGE,MAPE_LASSO,MAPE_LREG,MAPE_PREG2,MAPE_PREG3]\n",
    "\n",
    "# Create the boxplot\n",
    "bp = ax.boxplot(data_to_plot)\n",
    "## add patch_artist=True option to ax.boxplot() \n",
    "## to get fill color\n",
    "bp = ax.boxplot(data_to_plot, patch_artist=True)\n",
    "\n",
    "## change outline color, fill color and linewidth of the boxes\n",
    "for box in bp['boxes']:\n",
    "    # change outline color\n",
    "    box.set( color='#7570b3', linewidth=2)\n",
    "    # change fill color\n",
    "    box.set( facecolor = '#1b9e77' )\n",
    "\n",
    "## change color and linewidth of the whiskers\n",
    "for whisker in bp['whiskers']:\n",
    "    whisker.set(color='#7570b3', linewidth=2)\n",
    "\n",
    "## change color and linewidth of the caps\n",
    "for cap in bp['caps']:\n",
    "    cap.set(color='#7570b3', linewidth=2)\n",
    "\n",
    "## change color and linewidth of the medians\n",
    "for median in bp['medians']:\n",
    "    median.set(color='#b2df8a', linewidth=2)\n",
    "\n",
    "## change the style of fliers and their fill\n",
    "for flier in bp['fliers']:\n",
    "    flier.set(marker='o', color='#e7298a', alpha=0.5)\n",
    "              \n",
    "## Custom x-axis labels\n",
    "ax.set_xticklabels(['Random Forest',  'MLP','SVM', 'XGBoost','Ridge','Lasso','Multi Linear','Polynomial 2','Polynomial 3'])\n",
    "ax.set_ylim(0,100)\n",
    "ax.set_ylabel(\"Percentage Error (%)\")\n",
    "## Remove top axes and right axes ticks\n",
    "ax.get_xaxis().tick_bottom()\n",
    "ax.get_yaxis().tick_left()\n",
    "\n",
    "fig.savefig('boxplots.png', dpi=1000)\n",
    "fig.savefig('boxplots.pdf')"
   ]
  },
  {
   "cell_type": "markdown",
   "metadata": {},
   "source": [
    "Moreover, perform a principal component analysis (PCA) using the random forest regression results:"
   ]
  },
  {
   "cell_type": "code",
   "execution_count": 18,
   "metadata": {},
   "outputs": [
    {
     "data": {
      "image/png": "[encoded data removed]",
      "text/plain": [
       "<Figure size 432x288 with 1 Axes>"
      ]
     },
     "metadata": {
      "needs_background": "light"
     },
     "output_type": "display_data"
    }
   ],
   "source": [
    "#Principal Component Analysis\n",
    "features = df.columns[:-1]\n",
    "importances = randreg.feature_importances_\n",
    "indices = np.argsort(importances)\n",
    "plt.figure(3) #the axis number\n",
    "plt.title('Feature Importance')\n",
    "plt.barh(range(len(indices)), importances[indices], color='b', align='center')\n",
    "plt.yticks(range(len(indices)), features[indices])\n",
    "plt.xlabel('Relative Importance')\n",
    "plt.savefig('Feature Importance.png', \n",
    "              bbox_inches='tight', dpi = 500,figsize=(8,6))\n",
    "\n",
    "df_estimationerrors.to_csv(\"errors.csv\")"
   ]
  },
  {
   "cell_type": "code",
   "execution_count": null,
   "metadata": {},
   "outputs": [],
   "source": []
  }
 ],
 "metadata": {
  "kernelspec": {
   "display_name": "Python 3",
   "language": "python",
   "name": "python3"
  },
  "language_info": {
   "codemirror_mode": {
    "name": "ipython",
    "version": 3
   },
   "file_extension": ".py",
   "mimetype": "text/x-python",
   "name": "python",
   "nbconvert_exporter": "python",
   "pygments_lexer": "ipython3",
   "version": "3.7.4"
  }
 },
 "nbformat": 4,
 "nbformat_minor": 2
}
